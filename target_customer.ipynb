{
 "cells": [
  {
   "cell_type": "markdown",
   "metadata": {},
   "source": [
    "**IMPORTS** and **EXTRACTING CSV DATA**"
   ]
  },
  {
   "cell_type": "code",
   "execution_count": 45,
   "metadata": {},
   "outputs": [],
   "source": [
    "import numpy as np\n",
    "from sklearn import preprocessing\n",
    "import tensorflow as tf\n",
    "\n",
    "# replace the file 'Audiobooks_data.csv' with your csv file path and name\n",
    "raw_csv_data = np.loadtxt( 'Audiobooks_data.csv', delimiter = ',')\n",
    "\n",
    "# inputs exclude first and last column of csv file, modify according to your use\n",
    "unscaled_inputs_all = raw_csv_data[:, 1:-1]\n",
    "\n",
    "# targets are in the last column in csv file\n",
    "target_all = raw_csv_data[:, -1]"
   ]
  },
  {
   "cell_type": "markdown",
   "metadata": {},
   "source": [
    "**BALANCE THE DATASET**"
   ]
  },
  {
   "cell_type": "code",
   "execution_count": 46,
   "metadata": {},
   "outputs": [],
   "source": [
    "# This is just to balance the target datset ,i.e. there should be equal number of rows for each target value\n",
    "num_one_targets = int(np.sum(target_all))\n",
    "zero_targets_counter = 0\n",
    "indices_to_be_removed = []\n",
    "\n",
    "for i in range(target_all.shape[0]):\n",
    "    if target_all[i] == 0:\n",
    "        zero_targets_counter+=1\n",
    "        if zero_targets_counter > num_one_targets:\n",
    "            indices_to_be_removed.append(i)\n",
    "\n",
    "unscaled_inputs_equal_priors = np.delete(unscaled_inputs_all, indices_to_be_removed, axis = 0)\n",
    "target_equal_priors = np.delete(target_all, indices_to_be_removed, axis = 0)"
   ]
  },
  {
   "cell_type": "markdown",
   "metadata": {},
   "source": [
    "**STANDARDIZE THE INPUT**"
   ]
  },
  {
   "cell_type": "code",
   "execution_count": 47,
   "metadata": {},
   "outputs": [],
   "source": [
    "# preprocessing the input to scale all the values relatively\n",
    "scaled_inputs = preprocessing.scale(unscaled_inputs_equal_priors)\n"
   ]
  },
  {
   "cell_type": "markdown",
   "metadata": {},
   "source": [
    "**SHUFFLE THE DATA**"
   ]
  },
  {
   "cell_type": "code",
   "execution_count": 48,
   "metadata": {},
   "outputs": [],
   "source": [
    "# random shuffle the data for better results and accuracy\n",
    "shuffled_indices = np.arange(scaled_inputs.shape[0])\n",
    "np.random.shuffle(shuffled_indices)\n",
    "\n",
    "shuffled_inputs = scaled_inputs[shuffled_indices]\n",
    "shuffled_targets = target_equal_priors[shuffled_indices]"
   ]
  },
  {
   "cell_type": "markdown",
   "metadata": {},
   "source": [
    "**SPLIT DATA INTO TRAIN, VALDIATION AND TEST**"
   ]
  },
  {
   "cell_type": "code",
   "execution_count": 49,
   "metadata": {},
   "outputs": [],
   "source": [
    "# Portion of train, validation and test dataset\n",
    "TRAIN_PORTION = 0.8\n",
    "VALIDATION_PORTION = 0.1\n",
    "\n",
    "samples_count = shuffled_inputs.shape[0]\n",
    "\n",
    "train_samples_count = int(TRAIN_PORTION*samples_count)\n",
    "validation_samples_count = int(VALIDATION_PORTION*samples_count)\n",
    "test_samples_count = samples_count- train_samples_count - validation_samples_count\n",
    "\n",
    "train_inputs = shuffled_inputs[:train_samples_count]\n",
    "train_targets = shuffled_targets[:train_samples_count]\n",
    "\n",
    "validation_inputs = shuffled_inputs[train_samples_count:train_samples_count+validation_samples_count]\n",
    "validation_targets = shuffled_targets[train_samples_count:train_samples_count+validation_samples_count]\n",
    "\n",
    "test_inputs = shuffled_inputs[train_samples_count+validation_samples_count:]\n",
    "test_targets = shuffled_targets[train_samples_count+validation_samples_count:]"
   ]
  },
  {
   "cell_type": "code",
   "execution_count": 50,
   "metadata": {},
   "outputs": [],
   "source": [
    "# Replace the 'Audiobook_data_' with whatever you want, this code will save npz files for model in your directory\n",
    "np.savez('Audiobook_data_train', inputs= train_inputs, targets= train_targets)\n",
    "np.savez('Audiobook_data_validation', inputs= validation_inputs, targets= validation_targets)\n",
    "np.savez('Audiobook_data_test', inputs= test_inputs, targets= test_targets)"
   ]
  },
  {
   "cell_type": "code",
   "execution_count": 51,
   "metadata": {},
   "outputs": [],
   "source": [
    "# Extracting data from saved .npz files\n",
    "npz = np.load('Audiobook_data_train.npz')\n",
    "\n",
    "train_inputs = npz['inputs'].astype(np.float)\n",
    "train_targets = npz['targets'].astype(np.int)\n",
    "\n",
    "npz = np.load('Audiobook_data_validation.npz')\n",
    "\n",
    "validation_inputs = npz['inputs'].astype(np.float)\n",
    "validation_targets = npz['targets'].astype(np.int)\n",
    "\n",
    "npz = np.load('Audiobook_data_test.npz')\n",
    "\n",
    "test_inputs = npz['inputs'].astype(np.float)\n",
    "test_targets = npz['targets'].astype(np.int)"
   ]
  },
  {
   "cell_type": "markdown",
   "metadata": {},
   "source": [
    "**MODEL**"
   ]
  },
  {
   "cell_type": "code",
   "execution_count": 52,
   "metadata": {},
   "outputs": [
    {
     "name": "stdout",
     "output_type": "stream",
     "text": [
      "Train on 3579 samples, validate on 447 samples\n",
      "Epoch 1/100\n",
      "3579/3579 - 0s - loss: 0.5153 - accuracy: 0.7863 - val_loss: 0.4078 - val_accuracy: 0.8658\n",
      "Epoch 2/100\n",
      "3579/3579 - 0s - loss: 0.3512 - accuracy: 0.8790 - val_loss: 0.3443 - val_accuracy: 0.8725\n",
      "Epoch 3/100\n",
      "3579/3579 - 0s - loss: 0.3088 - accuracy: 0.8852 - val_loss: 0.3211 - val_accuracy: 0.8792\n",
      "Epoch 4/100\n",
      "3579/3579 - 0s - loss: 0.2914 - accuracy: 0.8924 - val_loss: 0.3039 - val_accuracy: 0.8814\n",
      "Epoch 5/100\n",
      "3579/3579 - 0s - loss: 0.2800 - accuracy: 0.8938 - val_loss: 0.2950 - val_accuracy: 0.8814\n",
      "Epoch 6/100\n",
      "3579/3579 - 0s - loss: 0.2717 - accuracy: 0.8969 - val_loss: 0.2867 - val_accuracy: 0.8881\n",
      "Epoch 7/100\n",
      "3579/3579 - 0s - loss: 0.2664 - accuracy: 0.9003 - val_loss: 0.2789 - val_accuracy: 0.8949\n",
      "Epoch 8/100\n",
      "3579/3579 - 0s - loss: 0.2609 - accuracy: 0.9025 - val_loss: 0.2754 - val_accuracy: 0.8993\n",
      "Epoch 9/100\n",
      "3579/3579 - 0s - loss: 0.2556 - accuracy: 0.9033 - val_loss: 0.2759 - val_accuracy: 0.8949\n",
      "Epoch 10/100\n",
      "3579/3579 - 0s - loss: 0.2516 - accuracy: 0.9050 - val_loss: 0.2691 - val_accuracy: 0.8971\n",
      "Epoch 11/100\n",
      "3579/3579 - 0s - loss: 0.2476 - accuracy: 0.9053 - val_loss: 0.2690 - val_accuracy: 0.8971\n",
      "Epoch 12/100\n",
      "3579/3579 - 0s - loss: 0.2443 - accuracy: 0.9070 - val_loss: 0.2697 - val_accuracy: 0.9016\n",
      "Epoch 13/100\n",
      "3579/3579 - 0s - loss: 0.2426 - accuracy: 0.9095 - val_loss: 0.2699 - val_accuracy: 0.8993\n"
     ]
    },
    {
     "data": {
      "text/plain": [
       "<tensorflow.python.keras.callbacks.History at 0x1335dea50>"
      ]
     },
     "execution_count": 52,
     "metadata": {},
     "output_type": "execute_result"
    }
   ],
   "source": [
    "# change input size to \"number of varaibles that can affect your result\"\n",
    "# you can play around \"hidden_layer_size\"\n",
    "input_size = 10\n",
    "output_size = 2\n",
    "hidden_layer_size =50\n",
    "\n",
    "# training the model\n",
    "model = tf.keras.Sequential([\n",
    "    tf.keras.layers.Dense(hidden_layer_size, activation='relu'),\n",
    "    tf.keras.layers.Dense(hidden_layer_size, activation='relu'),\n",
    "    tf.keras.layers.Dense(output_size, activation='softmax')\n",
    "])\n",
    "\n",
    "# sparse_categorical_crossentropy is used for one-hot encoding\n",
    "model.compile(optimizer = 'adam', loss = 'sparse_categorical_crossentropy', metrics = ['accuracy'])\n",
    "\n",
    "# these values can also be changed accordingly, so play around\n",
    "batch_size =100\n",
    "max_epochs = 100\n",
    "early_stopping = tf.keras.callbacks.EarlyStopping(patience=2)\n",
    "\n",
    "model.fit(train_inputs, \n",
    "          train_targets,\n",
    "          batch_size = batch_size,\n",
    "          callbacks = [early_stopping],\n",
    "          epochs = max_epochs,\n",
    "          validation_data = (validation_inputs, validation_targets),\n",
    "          verbose = 2\n",
    "        )\n",
    "\n"
   ]
  },
  {
   "cell_type": "markdown",
   "metadata": {},
   "source": [
    "**EVALUATE**\n"
   ]
  },
  {
   "cell_type": "code",
   "execution_count": 53,
   "metadata": {},
   "outputs": [
    {
     "name": "stdout",
     "output_type": "stream",
     "text": [
      "448/448 [==============================] - 0s 90us/sample - loss: 0.2438 - accuracy: 0.9085\n"
     ]
    }
   ],
   "source": [
    "test_loss, test_accuracy = model.evaluate(test_inputs, test_targets)"
   ]
  },
  {
   "cell_type": "code",
   "execution_count": null,
   "metadata": {},
   "outputs": [],
   "source": [
    " "
   ]
  }
 ],
 "metadata": {
  "kernelspec": {
   "display_name": "Python (py2tf_2)",
   "language": "python",
   "name": "myenv"
  },
  "language_info": {
   "codemirror_mode": {
    "name": "ipython",
    "version": 2
   },
   "file_extension": ".py",
   "mimetype": "text/x-python",
   "name": "python",
   "nbconvert_exporter": "python",
   "pygments_lexer": "ipython2",
   "version": "2.7.17"
  }
 },
 "nbformat": 4,
 "nbformat_minor": 2
}
